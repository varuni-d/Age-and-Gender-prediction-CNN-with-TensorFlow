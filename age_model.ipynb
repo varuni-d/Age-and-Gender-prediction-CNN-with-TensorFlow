{
 "cells": [
  {
   "cell_type": "code",
   "execution_count": 1,
   "metadata": {},
   "outputs": [
    {
     "name": "stdout",
     "output_type": "stream",
     "text": [
      "TensorFlow version:  2.2.0\n"
     ]
    }
   ],
   "source": [
    "import os\n",
    "import tensorflow as tf\n",
    "import numpy as np\n",
    "import matplotlib.pyplot as plt\n",
    "import csv\n",
    "import shutil\n",
    "from tqdm import tqdm\n",
    "from PIL import Image\n",
    "os.getcwd()\n",
    "print(\"TensorFlow version: \", tf.__version__)"
   ]
  },
  {
   "cell_type": "code",
   "execution_count": 2,
   "metadata": {},
   "outputs": [
    {
     "name": "stderr",
     "output_type": "stream",
     "text": [
      "Using TensorFlow backend.\n"
     ]
    },
    {
     "name": "stdout",
     "output_type": "stream",
     "text": [
      "                                           full_path gender  age\n",
      "0  data/imdb/50/nm0004950_rm4036071168_1972-4-17_...      0   38\n",
      "1  data/imdb/77/nm0004977_rm474265344_1973-7-15_2...      1   37\n",
      "2  data/imdb/21/nm0019221_rm3640760320_1948-9-11_...      1   16\n",
      "3  data/imdb/34/nm1289434_rm2872508160_1983-2-23_...      0   32\n",
      "4  data/imdb/90/nm0001590_rm687003392_1952-5-15_2...      1   57\n",
      "                                           full_path gender  age\n",
      "0  data/imdb/44/nm0089244_rm238668800_1939-8-7_19...      0   38\n",
      "1          data/wiki/21/32518421_1991-09-01_2015.jpg      1   37\n",
      "2          data/wiki/76/38687576_1939-08-29_1961.jpg      1   16\n",
      "3  data/imdb/88/nm0005388_rm594123264_1970-5-15_2...      1   32\n",
      "4  data/imdb/25/nm0001325_rm2254805248_1959-11-3_...      1   57\n",
      "<class 'pandas.core.frame.DataFrame'>\n",
      "RangeIndex: 156918 entries, 0 to 156917\n",
      "Data columns (total 3 columns):\n",
      " #   Column     Non-Null Count   Dtype \n",
      "---  ------     --------------   ----- \n",
      " 0   full_path  156918 non-null  object\n",
      " 1   gender     156918 non-null  object\n",
      " 2   age        156918 non-null  int64 \n",
      "dtypes: int64(1), object(2)\n",
      "memory usage: 3.6+ MB\n",
      "None\n",
      "<class 'pandas.core.frame.DataFrame'>\n",
      "RangeIndex: 52566 entries, 0 to 52565\n",
      "Data columns (total 3 columns):\n",
      " #   Column     Non-Null Count  Dtype \n",
      "---  ------     --------------  ----- \n",
      " 0   full_path  52566 non-null  object\n",
      " 1   gender     52566 non-null  object\n",
      " 2   age        52566 non-null  int64 \n",
      "dtypes: int64(1), object(2)\n",
      "memory usage: 1.2+ MB\n",
      "None\n"
     ]
    }
   ],
   "source": [
    "#Ref: https://medium.com/@vijayabhaskar96/tutorial-on-keras-flow-from-dataframe-1fd4493d237c\n",
    "\n",
    "from keras.models import Sequential\n",
    "#Import from keras_preprocessing not from keras.preprocessing\n",
    "from keras_preprocessing.image import ImageDataGenerator\n",
    "from keras.layers import Dense, Activation, Flatten, Dropout, BatchNormalization\n",
    "from keras.layers import Conv2D, MaxPooling2D\n",
    "from keras import regularizers, optimizers\n",
    "from keras.optimizers import SGD\n",
    "import pandas as pd\n",
    "import numpy as np\n",
    "import keras \n",
    "from keras.layers import *\n",
    "from keras.models import *\n",
    "\n",
    "traindf=pd.read_csv('train.csv',dtype=str)\n",
    "testdf=pd.read_csv('test.csv',dtype=str)\n",
    "\n",
    "traindf['age']=traindf.age.astype('int64')\n",
    "\n",
    "testdf['age']=traindf.age.astype('int64')\n",
    "\n",
    "print(traindf.head())\n",
    "print(testdf.head())\n",
    "\n",
    "print(traindf.info())\n",
    "print(testdf.info())\n"
   ]
  },
  {
   "cell_type": "code",
   "execution_count": 3,
   "metadata": {},
   "outputs": [
    {
     "name": "stdout",
     "output_type": "stream",
     "text": [
      "0        38\n",
      "1        37\n",
      "2        16\n",
      "3        32\n",
      "4        57\n",
      "         ..\n",
      "52561    20\n",
      "52562    49\n",
      "52563    24\n",
      "52564    29\n",
      "52565    41\n",
      "Name: age, Length: 52566, dtype: int64\n"
     ]
    }
   ],
   "source": [
    "test_labels = testdf['age']\n",
    "print(test_labels)"
   ]
  },
  {
   "cell_type": "code",
   "execution_count": 4,
   "metadata": {},
   "outputs": [
    {
     "name": "stdout",
     "output_type": "stream",
     "text": [
      "Found 125535 validated image filenames.\n",
      "Found 31383 validated image filenames.\n"
     ]
    }
   ],
   "source": [
    "#train and validation data generators\n",
    "\n",
    "img_dim=128\n",
    "\n",
    "\n",
    "datagen=ImageDataGenerator(rescale=1./255.,validation_split=0.2)\n",
    "#        rotation_range=90,\n",
    "#        shear_range=0.2,\n",
    "#        horizontal_flip=True,\n",
    "#        fill_mode='nearest')\n",
    "\n",
    "train_generator=datagen.flow_from_dataframe(dataframe=traindf,\n",
    "directory=None,\n",
    "x_col='full_path',\n",
    "y_col=['age'],\n",
    "subset=\"training\",\n",
    "#try a smaller batch size                                            \n",
    "batch_size=32,\n",
    "seed=42,\n",
    "shuffle=True,\n",
    "class_mode='raw', \n",
    "target_size=(img_dim,img_dim))\n",
    "\n",
    "valid_generator=datagen.flow_from_dataframe(\n",
    "dataframe=traindf,\n",
    "directory=None,\n",
    "x_col='full_path',\n",
    "y_col=['age'],\n",
    "subset=\"validation\",\n",
    "batch_size=1, #***Set this to some number that divides your total number of images in your test set exactly\n",
    "seed=42,\n",
    "shuffle=True,\n",
    "class_mode='raw',\n",
    "target_size=(img_dim,img_dim))"
   ]
  },
  {
   "cell_type": "code",
   "execution_count": 5,
   "metadata": {},
   "outputs": [
    {
     "name": "stdout",
     "output_type": "stream",
     "text": [
      "Found 52566 validated image filenames.\n"
     ]
    }
   ],
   "source": [
    "#test data generator\n",
    "\n",
    "test_datagen=ImageDataGenerator(rescale=1./255.)\n",
    "\n",
    "test_generator=test_datagen.flow_from_dataframe(\n",
    "dataframe=testdf,\n",
    "directory=None,\n",
    "x_col='full_path',\n",
    "y_col=None,\n",
    "batch_size=1, #***Set this to some number that divides your total number of images in your test set exactly\n",
    "seed=42,\n",
    "shuffle=False,\n",
    "class_mode=None,\n",
    "target_size=(img_dim,img_dim))\n",
    "\n",
    "\n"
   ]
  },
  {
   "cell_type": "code",
   "execution_count": 6,
   "metadata": {},
   "outputs": [],
   "source": [
    "#Define model\n",
    "\n",
    "inputs = Input(shape = (img_dim,img_dim, 3))\n",
    "\n",
    "# Begin\n",
    "model = Conv2D(filters=32, kernel_size=(3, 3), padding='same', strides= 2, activation='relu', input_shape=(img_dim, img_dim, 3))(inputs)\n",
    "#model = Conv2D(filters=32, kernel_size=(3, 3), padding='same', strides= 2, input_shape=(img_dim, img_dim, 3))(inputs)\n",
    "model = MaxPool2D(pool_size=(3, 3), strides= 2)(model)\n",
    "model = BatchNormalization(momentum=0.15)(model)\n",
    "model = Conv2D(filters=64, kernel_size=(3, 3), padding='same', activation='relu')(model)\n",
    "model = BatchNormalization(momentum=0.15)(model)\n",
    "model = Conv2D(filters=128, kernel_size=(3, 3), padding='same', activation='relu')(model)\n",
    "model=Flatten()(model)\n",
    "\n",
    "age_model = Dense(256, activation='relu')(model)\n",
    "age_model = Dropout(0.4)(age_model)\n",
    "age_model = Dense(512, activation='relu')(age_model)\n",
    "age_model = Dropout(0.4)(age_model)\n",
    "age_model= Dense(1, activation='linear',name='age')(age_model)\n"
   ]
  },
  {
   "cell_type": "code",
   "execution_count": 7,
   "metadata": {},
   "outputs": [
    {
     "name": "stdout",
     "output_type": "stream",
     "text": [
      "Model: \"model_1\"\n",
      "_________________________________________________________________\n",
      "Layer (type)                 Output Shape              Param #   \n",
      "=================================================================\n",
      "input_1 (InputLayer)         (None, 128, 128, 3)       0         \n",
      "_________________________________________________________________\n",
      "conv2d_1 (Conv2D)            (None, 64, 64, 32)        896       \n",
      "_________________________________________________________________\n",
      "max_pooling2d_1 (MaxPooling2 (None, 31, 31, 32)        0         \n",
      "_________________________________________________________________\n",
      "batch_normalization_1 (Batch (None, 31, 31, 32)        128       \n",
      "_________________________________________________________________\n",
      "conv2d_2 (Conv2D)            (None, 31, 31, 64)        18496     \n",
      "_________________________________________________________________\n",
      "batch_normalization_2 (Batch (None, 31, 31, 64)        256       \n",
      "_________________________________________________________________\n",
      "conv2d_3 (Conv2D)            (None, 31, 31, 128)       73856     \n",
      "_________________________________________________________________\n",
      "flatten_1 (Flatten)          (None, 123008)            0         \n",
      "_________________________________________________________________\n",
      "dense_1 (Dense)              (None, 256)               31490304  \n",
      "_________________________________________________________________\n",
      "dropout_1 (Dropout)          (None, 256)               0         \n",
      "_________________________________________________________________\n",
      "dense_2 (Dense)              (None, 512)               131584    \n",
      "_________________________________________________________________\n",
      "dropout_2 (Dropout)          (None, 512)               0         \n",
      "_________________________________________________________________\n",
      "age (Dense)                  (None, 1)                 513       \n",
      "=================================================================\n",
      "Total params: 31,716,033\n",
      "Trainable params: 31,715,841\n",
      "Non-trainable params: 192\n",
      "_________________________________________________________________\n"
     ]
    }
   ],
   "source": [
    "model = Model(inputs=inputs, outputs=age_model)\n",
    "#lower lr as the same number was been predicted regardless of the input\n",
    "model.compile(optimizer = tf.keras.optimizers.Adam(0.002), loss ='mse',metrics=['mae'])\n",
    "model.summary()"
   ]
  },
  {
   "cell_type": "code",
   "execution_count": 8,
   "metadata": {},
   "outputs": [
    {
     "name": "stdout",
     "output_type": "stream",
     "text": [
      "Epoch 1/10\n",
      " 633/3922 [===>..........................] - ETA: 27:50 - loss: 682.1661 - mae: 13.2141"
     ]
    },
    {
     "name": "stderr",
     "output_type": "stream",
     "text": [
      "/Users/varuni/anaconda3/lib/python3.7/site-packages/PIL/TiffImagePlugin.py:786: UserWarning: Possibly corrupt EXIF data.  Expecting to read 206 bytes but only got 0. Skipping tag 0\n",
      "  \" Skipping tag %s\" % (size, len(data), tag)\n",
      "/Users/varuni/anaconda3/lib/python3.7/site-packages/PIL/TiffImagePlugin.py:786: UserWarning: Possibly corrupt EXIF data.  Expecting to read 65536 bytes but only got 0. Skipping tag 0\n",
      "  \" Skipping tag %s\" % (size, len(data), tag)\n",
      "/Users/varuni/anaconda3/lib/python3.7/site-packages/PIL/TiffImagePlugin.py:786: UserWarning: Possibly corrupt EXIF data.  Expecting to read 170 bytes but only got 0. Skipping tag 0\n",
      "  \" Skipping tag %s\" % (size, len(data), tag)\n",
      "/Users/varuni/anaconda3/lib/python3.7/site-packages/PIL/TiffImagePlugin.py:786: UserWarning: Possibly corrupt EXIF data.  Expecting to read 178 bytes but only got 0. Skipping tag 0\n",
      "  \" Skipping tag %s\" % (size, len(data), tag)\n",
      "/Users/varuni/anaconda3/lib/python3.7/site-packages/PIL/TiffImagePlugin.py:804: UserWarning: Corrupt EXIF data.  Expecting to read 12 bytes but only got 6. \n",
      "  warnings.warn(str(msg))\n"
     ]
    },
    {
     "name": "stdout",
     "output_type": "stream",
     "text": [
      " 935/3922 [======>.......................] - ETA: 25:15 - loss: 526.8721 - mae: 12.4938"
     ]
    },
    {
     "name": "stderr",
     "output_type": "stream",
     "text": [
      "/Users/varuni/anaconda3/lib/python3.7/site-packages/PIL/TiffImagePlugin.py:786: UserWarning: Possibly corrupt EXIF data.  Expecting to read 724 bytes but only got 0. Skipping tag 0\n",
      "  \" Skipping tag %s\" % (size, len(data), tag)\n",
      "/Users/varuni/anaconda3/lib/python3.7/site-packages/PIL/TiffImagePlugin.py:804: UserWarning: Corrupt EXIF data.  Expecting to read 12 bytes but only got 1. \n",
      "  warnings.warn(str(msg))\n"
     ]
    },
    {
     "name": "stdout",
     "output_type": "stream",
     "text": [
      "1664/3922 [===========>..................] - ETA: 19:03 - loss: 381.9355 - mae: 11.7862"
     ]
    },
    {
     "name": "stderr",
     "output_type": "stream",
     "text": [
      "/Users/varuni/anaconda3/lib/python3.7/site-packages/PIL/TiffImagePlugin.py:804: UserWarning: Corrupt EXIF data.  Expecting to read 4 bytes but only got 0. \n",
      "  warnings.warn(str(msg))\n"
     ]
    },
    {
     "name": "stdout",
     "output_type": "stream",
     "text": [
      "1779/3922 [============>.................] - ETA: 18:09 - loss: 370.5264 - mae: 11.7388"
     ]
    },
    {
     "name": "stderr",
     "output_type": "stream",
     "text": [
      "/Users/varuni/anaconda3/lib/python3.7/site-packages/PIL/TiffImagePlugin.py:804: UserWarning: Corrupt EXIF data.  Expecting to read 12 bytes but only got 4. \n",
      "  warnings.warn(str(msg))\n"
     ]
    },
    {
     "name": "stdout",
     "output_type": "stream",
     "text": [
      "1802/3922 [============>.................] - ETA: 17:57 - loss: 368.2649 - mae: 11.7265"
     ]
    },
    {
     "name": "stderr",
     "output_type": "stream",
     "text": [
      "/Users/varuni/anaconda3/lib/python3.7/site-packages/PIL/TiffImagePlugin.py:804: UserWarning: Corrupt EXIF data.  Expecting to read 12 bytes but only got 8. \n",
      "  warnings.warn(str(msg))\n"
     ]
    },
    {
     "name": "stdout",
     "output_type": "stream",
     "text": [
      "1986/3922 [==============>...............] - ETA: 16:24 - loss: 351.6912 - mae: 11.6295"
     ]
    },
    {
     "name": "stderr",
     "output_type": "stream",
     "text": [
      "/Users/varuni/anaconda3/lib/python3.7/site-packages/PIL/TiffImagePlugin.py:786: UserWarning: Possibly corrupt EXIF data.  Expecting to read 2081741501 bytes but only got 0. Skipping tag 40191\n",
      "  \" Skipping tag %s\" % (size, len(data), tag)\n",
      "/Users/varuni/anaconda3/lib/python3.7/site-packages/PIL/TiffImagePlugin.py:786: UserWarning: Possibly corrupt EXIF data.  Expecting to read 1070775869 bytes but only got 0. Skipping tag 38460\n",
      "  \" Skipping tag %s\" % (size, len(data), tag)\n"
     ]
    },
    {
     "name": "stdout",
     "output_type": "stream",
     "text": [
      "2215/3922 [===============>..............] - ETA: 14:28 - loss: 335.3000 - mae: 11.5370"
     ]
    },
    {
     "name": "stderr",
     "output_type": "stream",
     "text": [
      "/Users/varuni/anaconda3/lib/python3.7/site-packages/PIL/TiffImagePlugin.py:804: UserWarning: Corrupt EXIF data.  Expecting to read 12 bytes but only got 5. \n",
      "  warnings.warn(str(msg))\n"
     ]
    },
    {
     "name": "stdout",
     "output_type": "stream",
     "text": [
      "2490/3922 [==================>...........] - ETA: 12:07 - loss: 319.5698 - mae: 11.4530"
     ]
    },
    {
     "name": "stderr",
     "output_type": "stream",
     "text": [
      "/Users/varuni/anaconda3/lib/python3.7/site-packages/PIL/TiffImagePlugin.py:804: UserWarning: Corrupt EXIF data.  Expecting to read 12 bytes but only got 0. \n",
      "  warnings.warn(str(msg))\n"
     ]
    },
    {
     "name": "stdout",
     "output_type": "stream",
     "text": [
      "2727/3922 [===================>..........] - ETA: 10:07 - loss: 308.9626 - mae: 11.4037"
     ]
    },
    {
     "name": "stderr",
     "output_type": "stream",
     "text": [
      "/Users/varuni/anaconda3/lib/python3.7/site-packages/PIL/TiffImagePlugin.py:804: UserWarning: Corrupt EXIF data.  Expecting to read 12 bytes but only got 7. \n",
      "  warnings.warn(str(msg))\n"
     ]
    },
    {
     "name": "stdout",
     "output_type": "stream",
     "text": [
      "3311/3922 [========================>.....] - ETA: 5:10 - loss: 288.1438 - mae: 11.2782"
     ]
    },
    {
     "name": "stderr",
     "output_type": "stream",
     "text": [
      "/Users/varuni/anaconda3/lib/python3.7/site-packages/PIL/TiffImagePlugin.py:786: UserWarning: Possibly corrupt EXIF data.  Expecting to read 266 bytes but only got 0. Skipping tag 0\n",
      "  \" Skipping tag %s\" % (size, len(data), tag)\n"
     ]
    },
    {
     "name": "stdout",
     "output_type": "stream",
     "text": [
      "3921/3922 [============================>.] - ETA: 0s - loss: 273.1137 - mae: 11.1912"
     ]
    },
    {
     "name": "stderr",
     "output_type": "stream",
     "text": [
      "/Users/varuni/anaconda3/lib/python3.7/site-packages/PIL/TiffImagePlugin.py:786: UserWarning: Possibly corrupt EXIF data.  Expecting to read 278 bytes but only got 0. Skipping tag 0\n",
      "  \" Skipping tag %s\" % (size, len(data), tag)\n",
      "/Users/varuni/anaconda3/lib/python3.7/site-packages/PIL/TiffImagePlugin.py:786: UserWarning: Possibly corrupt EXIF data.  Expecting to read 4721482732 bytes but only got 0. Skipping tag 35839\n",
      "  \" Skipping tag %s\" % (size, len(data), tag)\n",
      "/Users/varuni/anaconda3/lib/python3.7/site-packages/PIL/TiffImagePlugin.py:804: UserWarning: Corrupt EXIF data.  Expecting to read 12 bytes but only got 9. \n",
      "  warnings.warn(str(msg))\n"
     ]
    },
    {
     "name": "stdout",
     "output_type": "stream",
     "text": [
      "3922/3922 [==============================] - 2455s 626ms/step - loss: 273.0779 - mae: 11.1906 - val_loss: 1257.8875 - val_mae: 12.2337\n",
      "Epoch 2/10\n",
      "3922/3922 [==============================] - 2457s 626ms/step - loss: 176.3746 - mae: 10.2564 - val_loss: 135.7376 - val_mae: 12.8982\n",
      "Epoch 3/10\n",
      "3922/3922 [==============================] - 2469s 630ms/step - loss: 156.7979 - mae: 9.6466 - val_loss: 2.8727 - val_mae: 9.6135\n",
      "Epoch 4/10\n",
      "3922/3922 [==============================] - 2480s 632ms/step - loss: 146.9660 - mae: 9.3547 - val_loss: 29.1643 - val_mae: 9.1610\n",
      "Epoch 5/10\n",
      "3922/3922 [==============================] - 2487s 634ms/step - loss: 140.9036 - mae: 9.1680 - val_loss: 2.8353 - val_mae: 9.5631\n",
      "Epoch 6/10\n",
      "3922/3922 [==============================] - 2491s 635ms/step - loss: 134.9305 - mae: 8.9558 - val_loss: 12.1408 - val_mae: 9.5672\n",
      "Epoch 7/10\n",
      "3922/3922 [==============================] - 2492s 635ms/step - loss: 129.4379 - mae: 8.7693 - val_loss: 19.8939 - val_mae: 8.7476\n",
      "Epoch 8/10\n",
      "3922/3922 [==============================] - 2497s 637ms/step - loss: 122.6831 - mae: 8.5280 - val_loss: 13.6771 - val_mae: 8.7050\n",
      "Epoch 9/10\n",
      "3922/3922 [==============================] - 2509s 640ms/step - loss: 117.5069 - mae: 8.3373 - val_loss: 73.2317 - val_mae: 8.7540\n",
      "Epoch 10/10\n",
      "3922/3922 [==============================] - 2538s 647ms/step - loss: 111.1005 - mae: 8.0860 - val_loss: 0.7002 - val_mae: 8.7489\n"
     ]
    }
   ],
   "source": [
    "callbacks = [tf.keras.callbacks.EarlyStopping(patience=5, monitor='val_loss',restore_best_weights=True)]\n",
    "\n",
    "\n",
    "STEP_SIZE_TRAIN=train_generator.n//train_generator.batch_size\n",
    "STEP_SIZE_VALID=valid_generator.n//valid_generator.batch_size\n",
    "STEP_SIZE_TEST=test_generator.n//test_generator.batch_size\n",
    "\n",
    "history = model.fit_generator(generator=train_generator,steps_per_epoch=STEP_SIZE_TRAIN,\n",
    "                    validation_data=valid_generator,validation_steps=STEP_SIZE_VALID,\n",
    "                    epochs=20,callbacks=callbacks)\n",
    "\n"
   ]
  },
  {
   "cell_type": "code",
   "execution_count": 9,
   "metadata": {},
   "outputs": [
    {
     "name": "stdout",
     "output_type": "stream",
     "text": [
      "dict_keys(['val_loss', 'val_mae', 'loss', 'mae'])\n"
     ]
    },
    {
     "name": "stderr",
     "output_type": "stream",
     "text": [
      "/Users/varuni/anaconda3/lib/python3.7/site-packages/keras/engine/saving.py:165: UserWarning: TensorFlow optimizers do not make it possible to access optimizer attributes or optimizer state after instantiation. As a result, we cannot save the optimizer as part of the model save file.You will have to compile your model again after loading it. Prefer using a Keras optimizer instead (see keras.io/optimizers).\n",
      "  'TensorFlow optimizers do not '\n"
     ]
    }
   ],
   "source": [
    "model.save('cnn_age_model.h5')\n",
    "print(history.history.keys())"
   ]
  },
  {
   "cell_type": "code",
   "execution_count": 10,
   "metadata": {},
   "outputs": [
    {
     "data": {
      "image/png": "[encoded data removed]",
      "text/plain": [
       "<Figure size 432x288 with 1 Axes>"
      ]
     },
     "metadata": {
      "needs_background": "light"
     },
     "output_type": "display_data"
    },
    {
     "data": {
      "image/png": "[encoded data removed]",
      "text/plain": [
       "<Figure size 432x288 with 1 Axes>"
      ]
     },
     "metadata": {
      "needs_background": "light"
     },
     "output_type": "display_data"
    },
    {
     "data": {
      "text/plain": [
       "<Figure size 432x288 with 0 Axes>"
      ]
     },
     "metadata": {},
     "output_type": "display_data"
    }
   ],
   "source": [
    "plt.plot(history.history['loss'])\n",
    "plt.plot(history.history['val_loss'])\n",
    "plt.title('age model loss')\n",
    "plt.ylabel('loss')\n",
    "plt.xlabel('epoch')\n",
    "plt.ylim([0, 400])\n",
    "plt.legend(['train', 'test'], loc='upper left')\n",
    "plt.show()\n",
    "plt.savefig('age_only_MSE.png')\n",
    "plt.clf()\n",
    "\n",
    "plt.plot(history.history['mae'])\n",
    "plt.plot(history.history['val_mae'])\n",
    "plt.title('age model MAE')\n",
    "plt.ylabel('accuracy')\n",
    "plt.xlabel('epoch')\n",
    "plt.legend(['train', 'test'], loc='upper left')\n",
    "plt.show()\n",
    "plt.savefig('age_only_MAE.png')\n",
    "plt.clf()"
   ]
  },
  {
   "cell_type": "code",
   "execution_count": 11,
   "metadata": {},
   "outputs": [
    {
     "data": {
      "text/html": [
       "<div>\n",
       "<style scoped>\n",
       "    .dataframe tbody tr th:only-of-type {\n",
       "        vertical-align: middle;\n",
       "    }\n",
       "\n",
       "    .dataframe tbody tr th {\n",
       "        vertical-align: top;\n",
       "    }\n",
       "\n",
       "    .dataframe thead th {\n",
       "        text-align: right;\n",
       "    }\n",
       "</style>\n",
       "<table border=\"1\" class=\"dataframe\">\n",
       "  <thead>\n",
       "    <tr style=\"text-align: right;\">\n",
       "      <th></th>\n",
       "      <th>val_loss</th>\n",
       "      <th>val_mae</th>\n",
       "      <th>loss</th>\n",
       "      <th>mae</th>\n",
       "      <th>epoch</th>\n",
       "    </tr>\n",
       "  </thead>\n",
       "  <tbody>\n",
       "    <tr>\n",
       "      <th>5</th>\n",
       "      <td>12.140789</td>\n",
       "      <td>9.567200</td>\n",
       "      <td>134.930330</td>\n",
       "      <td>8.955828</td>\n",
       "      <td>5</td>\n",
       "    </tr>\n",
       "    <tr>\n",
       "      <th>6</th>\n",
       "      <td>19.893906</td>\n",
       "      <td>8.747582</td>\n",
       "      <td>129.437968</td>\n",
       "      <td>8.769300</td>\n",
       "      <td>6</td>\n",
       "    </tr>\n",
       "    <tr>\n",
       "      <th>7</th>\n",
       "      <td>13.677080</td>\n",
       "      <td>8.705027</td>\n",
       "      <td>122.683074</td>\n",
       "      <td>8.528028</td>\n",
       "      <td>7</td>\n",
       "    </tr>\n",
       "    <tr>\n",
       "      <th>8</th>\n",
       "      <td>73.231705</td>\n",
       "      <td>8.753992</td>\n",
       "      <td>117.506999</td>\n",
       "      <td>8.337317</td>\n",
       "      <td>8</td>\n",
       "    </tr>\n",
       "    <tr>\n",
       "      <th>9</th>\n",
       "      <td>0.700230</td>\n",
       "      <td>8.748919</td>\n",
       "      <td>111.100546</td>\n",
       "      <td>8.086040</td>\n",
       "      <td>9</td>\n",
       "    </tr>\n",
       "  </tbody>\n",
       "</table>\n",
       "</div>"
      ],
      "text/plain": [
       "    val_loss   val_mae        loss       mae  epoch\n",
       "5  12.140789  9.567200  134.930330  8.955828      5\n",
       "6  19.893906  8.747582  129.437968  8.769300      6\n",
       "7  13.677080  8.705027  122.683074  8.528028      7\n",
       "8  73.231705  8.753992  117.506999  8.337317      8\n",
       "9   0.700230  8.748919  111.100546  8.086040      9"
      ]
     },
     "execution_count": 11,
     "metadata": {},
     "output_type": "execute_result"
    }
   ],
   "source": [
    "hist = pd.DataFrame(history.history)\n",
    "hist['epoch'] = history.epoch\n",
    "hist.tail()"
   ]
  },
  {
   "cell_type": "code",
   "execution_count": 12,
   "metadata": {},
   "outputs": [],
   "source": [
    "#Evaluate\n",
    "#loss, mae = model.evaluate_generator(generator=valid_generator,steps=STEP_SIZE_VALID)\n",
    "\n",
    "#print(\"Testing set Mean Abs Error: {:5.2f}\".format(mae))"
   ]
  },
  {
   "cell_type": "code",
   "execution_count": 13,
   "metadata": {},
   "outputs": [
    {
     "name": "stdout",
     "output_type": "stream",
     "text": [
      "Model: \"model_1\"\n",
      "_________________________________________________________________\n",
      "Layer (type)                 Output Shape              Param #   \n",
      "=================================================================\n",
      "input_1 (InputLayer)         (None, 128, 128, 3)       0         \n",
      "_________________________________________________________________\n",
      "conv2d_1 (Conv2D)            (None, 64, 64, 32)        896       \n",
      "_________________________________________________________________\n",
      "max_pooling2d_1 (MaxPooling2 (None, 31, 31, 32)        0         \n",
      "_________________________________________________________________\n",
      "batch_normalization_1 (Batch (None, 31, 31, 32)        128       \n",
      "_________________________________________________________________\n",
      "conv2d_2 (Conv2D)            (None, 31, 31, 64)        18496     \n",
      "_________________________________________________________________\n",
      "batch_normalization_2 (Batch (None, 31, 31, 64)        256       \n",
      "_________________________________________________________________\n",
      "conv2d_3 (Conv2D)            (None, 31, 31, 128)       73856     \n",
      "_________________________________________________________________\n",
      "flatten_1 (Flatten)          (None, 123008)            0         \n",
      "_________________________________________________________________\n",
      "dense_1 (Dense)              (None, 256)               31490304  \n",
      "_________________________________________________________________\n",
      "dropout_1 (Dropout)          (None, 256)               0         \n",
      "_________________________________________________________________\n",
      "dense_2 (Dense)              (None, 512)               131584    \n",
      "_________________________________________________________________\n",
      "dropout_2 (Dropout)          (None, 512)               0         \n",
      "_________________________________________________________________\n",
      "age (Dense)                  (None, 1)                 513       \n",
      "=================================================================\n",
      "Total params: 31,716,033\n",
      "Trainable params: 31,715,841\n",
      "Non-trainable params: 192\n",
      "_________________________________________________________________\n"
     ]
    },
    {
     "name": "stderr",
     "output_type": "stream",
     "text": [
      "/Users/varuni/anaconda3/lib/python3.7/site-packages/keras/engine/saving.py:341: UserWarning: No training configuration found in save file: the model was *not* compiled. Compile it manually.\n",
      "  warnings.warn('No training configuration found in save file: '\n"
     ]
    }
   ],
   "source": [
    "# load model\n",
    "new_model = load_model('cnn_age_model.h5')\n",
    "# summarize model\n",
    "new_model.summary()"
   ]
  },
  {
   "cell_type": "code",
   "execution_count": 14,
   "metadata": {},
   "outputs": [
    {
     "name": "stdout",
     "output_type": "stream",
     "text": [
      " 2403/52566 [>.............................] - ETA: 12:38"
     ]
    },
    {
     "name": "stderr",
     "output_type": "stream",
     "text": [
      "/Users/varuni/anaconda3/lib/python3.7/site-packages/PIL/TiffImagePlugin.py:804: UserWarning: Corrupt EXIF data.  Expecting to read 12 bytes but only got 3. \n",
      "  warnings.warn(str(msg))\n"
     ]
    },
    {
     "name": "stdout",
     "output_type": "stream",
     "text": [
      "11220/52566 [=====>........................] - ETA: 10:12"
     ]
    },
    {
     "name": "stderr",
     "output_type": "stream",
     "text": [
      "/Users/varuni/anaconda3/lib/python3.7/site-packages/PIL/TiffImagePlugin.py:786: UserWarning: Possibly corrupt EXIF data.  Expecting to read 16036032132 bytes but only got 0. Skipping tag 50687\n",
      "  \" Skipping tag %s\" % (size, len(data), tag)\n"
     ]
    },
    {
     "name": "stdout",
     "output_type": "stream",
     "text": [
      "34088/52566 [==================>...........] - ETA: 4:36"
     ]
    },
    {
     "name": "stderr",
     "output_type": "stream",
     "text": [
      "/Users/varuni/anaconda3/lib/python3.7/site-packages/PIL/TiffImagePlugin.py:804: UserWarning: Corrupt EXIF data.  Expecting to read 2 bytes but only got 0. \n",
      "  warnings.warn(str(msg))\n"
     ]
    },
    {
     "name": "stdout",
     "output_type": "stream",
     "text": [
      "52566/52566 [==============================] - 787s 15ms/step\n"
     ]
    }
   ],
   "source": [
    "#Make predictions\n",
    "\n",
    "test_generator.reset() #reset the test_generator before whenever you call the predict_generator\n",
    "predictions=model.predict_generator(test_generator,steps=STEP_SIZE_TEST,verbose=1)"
   ]
  },
  {
   "cell_type": "code",
   "execution_count": 16,
   "metadata": {},
   "outputs": [
    {
     "name": "stdout",
     "output_type": "stream",
     "text": [
      "[[45.83603 ]\n",
      " [32.016655]\n",
      " [34.231445]\n",
      " ...\n",
      " [31.303028]\n",
      " [32.4001  ]\n",
      " [32.51051 ]]\n"
     ]
    }
   ],
   "source": [
    "print(predictions)"
   ]
  },
  {
   "cell_type": "code",
   "execution_count": 18,
   "metadata": {},
   "outputs": [
    {
     "name": "stdout",
     "output_type": "stream",
     "text": [
      "[45.83603  32.016655 34.231445 ... 31.303028 32.4001   32.51051 ]\n"
     ]
    }
   ],
   "source": [
    "test_predictions = predictions.flatten()\n",
    "#.astype(int)\n",
    "print(test_predictions)"
   ]
  },
  {
   "cell_type": "code",
   "execution_count": 25,
   "metadata": {},
   "outputs": [
    {
     "data": {
      "image/png": "[encoded data removed]",
      "text/plain": [
       "<Figure size 432x288 with 1 Axes>"
      ]
     },
     "metadata": {
      "needs_background": "light"
     },
     "output_type": "display_data"
    }
   ],
   "source": [
    "a = plt.axes(aspect='equal')\n",
    "plt.scatter(test_labels, test_predictions)\n",
    "plt.xlabel('True Values')\n",
    "plt.ylabel('Predictions')\n",
    "lims = [0, 100]\n",
    "plt.xlim(lims)\n",
    "plt.ylim(lims)\n",
    "_ = plt.plot(lims, lims)"
   ]
  },
  {
   "cell_type": "code",
   "execution_count": 20,
   "metadata": {},
   "outputs": [
    {
     "data": {
      "image/png": "[encoded data removed]",
      "text/plain": [
       "<Figure size 432x288 with 1 Axes>"
      ]
     },
     "metadata": {
      "needs_background": "light"
     },
     "output_type": "display_data"
    }
   ],
   "source": [
    "error = np.abs(test_predictions - test_labels)\n",
    "#type(error)\n",
    "plt.hist(error, bins = 25)\n",
    "plt.xlabel(\"Prediction Error\")\n",
    "_ = plt.ylabel(\"Count\")"
   ]
  },
  {
   "cell_type": "code",
   "execution_count": null,
   "metadata": {},
   "outputs": [],
   "source": [
    "#relu activation in the last layer gives a MAE of ~36"
   ]
  },
  {
   "cell_type": "code",
   "execution_count": 23,
   "metadata": {},
   "outputs": [
    {
     "data": {
      "text/plain": [
       "count    52566.000000\n",
       "mean        11.646223\n",
       "std          9.612493\n",
       "min          0.000008\n",
       "25%          4.489491\n",
       "50%          9.426586\n",
       "75%         16.253327\n",
       "max         68.278755\n",
       "Name: age, dtype: float64"
      ]
     },
     "execution_count": 23,
     "metadata": {},
     "output_type": "execute_result"
    }
   ],
   "source": [
    "error.describe()"
   ]
  },
  {
   "cell_type": "code",
   "execution_count": null,
   "metadata": {},
   "outputs": [],
   "source": []
  }
 ],
 "metadata": {
  "kernelspec": {
   "display_name": "Python 3",
   "language": "python",
   "name": "python3"
  },
  "language_info": {
   "codemirror_mode": {
    "name": "ipython",
    "version": 3
   },
   "file_extension": ".py",
   "mimetype": "text/x-python",
   "name": "python",
   "nbconvert_exporter": "python",
   "pygments_lexer": "ipython3",
   "version": "3.7.3"
  }
 },
 "nbformat": 4,
 "nbformat_minor": 2
}
