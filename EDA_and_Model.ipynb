{
 "cells": [
  {
   "cell_type": "code",
   "execution_count": 1,
   "metadata": {},
   "outputs": [],
   "source": [
    "import os\n",
    "import sys\n",
    "import numpy as np\n",
    "import pandas as pd\n",
    "from matplotlib import pyplot as plt\n",
    "from scipy.io import loadmat\n",
    "import warnings\n",
    "warnings.filterwarnings(\"ignore\", category=FutureWarning)"
   ]
  },
  {
   "cell_type": "code",
   "execution_count": 2,
   "metadata": {},
   "outputs": [
    {
     "name": "stdout",
     "output_type": "stream",
     "text": [
      "imdb 460723\n",
      "wiki 62328\n"
     ]
    }
   ],
   "source": [
    "dbs=['imdb','wiki']\n",
    "\n",
    "for i, db in enumerate(dbs):\n",
    "    parent_dir='data/{}/'.format(db)\n",
    "    metadata_path=parent_dir+'{}.mat'.format(db)\n",
    "    db_mat = loadmat(metadata_path) #https://towardsdatascience.com/how-to-load-matlab-mat-files-in-python-1f200e1287b5\n",
    "    db_data=db_mat[db]#https://docs.scipy.org/doc/scipy/reference/generated/scipy.io.loadmat.html\n",
    "#    print(db,db_mat.keys())\n",
    "#    print(i,db,db_data.dtype)\n",
    "    \n",
    "    if(db=='imdb'):\n",
    "        dob=db_data[0,0]['dob'][0]\n",
    "        photo_taken=db_data[0,0]['photo_taken'][0]\n",
    "        full_path=db_data[0,0]['full_path'][0]\n",
    "        gender=db_data[0,0]['gender'][0]\n",
    "        face_score=db_data[0,0]['face_score'][0]\n",
    "        second_face_score=db_data[0,0]['second_face_score'][0]\n",
    "        imdb_df=pd.DataFrame({\"dob\":dob,\"photo_taken\":photo_taken,\"full_path\": full_path,\"gender\": gender,\"face_score\": face_score,\"second_face_score\":second_face_score})        \n",
    "        no_of_images=len(full_path)\n",
    "        print(db,no_of_images)\n",
    "    else:\n",
    "        dob=db_data[0,0]['dob'][0]\n",
    "        photo_taken=db_data[0,0]['photo_taken'][0]\n",
    "        full_path=db_data[0,0]['full_path'][0]\n",
    "        gender=db_data[0,0]['gender'][0]\n",
    "        face_score=db_data[0,0]['face_score'][0]\n",
    "        second_face_score=db_data[0,0]['second_face_score'][0]\n",
    "        wiki_df=pd.DataFrame({\"dob\":dob,\"photo_taken\":photo_taken,\"full_path\": full_path,\"gender\": gender,\"face_score\": face_score,\"second_face_score\":second_face_score})\n",
    "        no_of_images=len(full_path)\n",
    "        print(db,no_of_images)            "
   ]
  },
  {
   "cell_type": "code",
   "execution_count": 3,
   "metadata": {},
   "outputs": [
    {
     "name": "stdout",
     "output_type": "stream",
     "text": [
      "      dob  photo_taken                                       full_path  \\\n",
      "0  693726         1968   [01/nm0000001_rm124825600_1899-5-10_1968.jpg]   \n",
      "1  693726         1970  [01/nm0000001_rm3343756032_1899-5-10_1970.jpg]   \n",
      "2  693726         1968   [01/nm0000001_rm577153792_1899-5-10_1968.jpg]   \n",
      "3  693726         1968   [01/nm0000001_rm946909184_1899-5-10_1968.jpg]   \n",
      "4  693726         1968   [01/nm0000001_rm980463616_1899-5-10_1968.jpg]   \n",
      "5  702986         1991  [02/nm0000002_rm1075631616_1924-9-16_1991.jpg]   \n",
      "6  702986         2004  [02/nm0000002_rm1346607872_1924-9-16_2004.jpg]   \n",
      "7  702986         2004  [02/nm0000002_rm1363385088_1924-9-16_2004.jpg]   \n",
      "8  702986         1991  [02/nm0000002_rm1411175936_1924-9-16_1991.jpg]   \n",
      "9  702986         2004  [02/nm0000002_rm1447271168_1924-9-16_2004.jpg]   \n",
      "\n",
      "   gender  face_score  second_face_score  age  \n",
      "0     1.0    1.459693           1.118973   69  \n",
      "1     1.0    2.543198           1.852008   71  \n",
      "2     1.0    3.455579           2.985660   69  \n",
      "3     1.0    1.872117                NaN   69  \n",
      "4     1.0    1.158766                NaN   69  \n",
      "5     0.0    3.490563           1.345335   66  \n",
      "6     0.0    3.479189                NaN   79  \n",
      "7     0.0    3.870171                NaN   79  \n",
      "8     0.0    3.786499           3.629704   66  \n",
      "9     0.0    3.472944           2.945133   79  \n"
     ]
    }
   ],
   "source": [
    "import time\n",
    "from datetime import datetime, date, timedelta\n",
    "\n",
    "def calculate_age(dob, taken_year):\n",
    "# The following function takes only one value at a time, and becasue we're doing a subtraction to correct from ordinal\n",
    "# date, need a max() to make sure there are no negatives\n",
    "    birth_python = datetime.fromordinal(max(int(dob) - 366,1))   \n",
    "    birth_year=birth_python.year\n",
    "    \n",
    "    if (birth_python.month<=6):\n",
    "        age_phototaken=taken_year-birth_year\n",
    "    else:\n",
    "        age_phototaken=taken_year-birth_year-1  \n",
    "    return age_phototaken\n",
    "\n",
    "imdb_age=imdb_df.apply(lambda row: calculate_age(row['dob'],row['photo_taken']),axis=1)\n",
    "imdb_df['age']=imdb_age\n",
    "\n",
    "wiki_age=wiki_df.apply(lambda row: calculate_age(row['dob'],row['photo_taken']),axis=1)\n",
    "wiki_df['age']=wiki_age\n",
    "\n",
    "print(imdb_df.head(10))\n"
   ]
  },
  {
   "cell_type": "code",
   "execution_count": 4,
   "metadata": {},
   "outputs": [],
   "source": [
    "# Check validity of images\n",
    "# Conditions:\n",
    "# 1) gender: Ignore images with unknown gender (NaN if unknown)\n",
    "# 2) face_score: Ignore images with no face (Inf implies that no face was found)\n",
    "# 3) second_face_score: Images with second face will be ignored (NaN if no second face)\n",
    "# 4) age: age range from -31->2014, only pick valid values\n",
    "def get_valid(gender,face_score,second_face_score,age):\n",
    "#    valid_images=True\n",
    "    if np.isnan(gender):\n",
    "        valid_images=False\n",
    "    elif face_score<1.0 or np.isinf(face_score):\n",
    "#Ref: http://www.apsipa.org/proceedings/2018/pdfs/0000007.pdf (Drop images with face_score<1)        \n",
    "        valid_images=False\n",
    "    elif ~np.isnan(second_face_score):\n",
    "        valid_images=False\n",
    "    elif age<0 or age>100:\n",
    "        valid_images=False\n",
    "    else:\n",
    "        valid_images=True\n",
    "    return valid_images"
   ]
  },
  {
   "cell_type": "code",
   "execution_count": 5,
   "metadata": {},
   "outputs": [
    {
     "name": "stdout",
     "output_type": "stream",
     "text": [
      "False    288871\n",
      "True     171852\n",
      "Name: valid_images, dtype: int64\n",
      "                                        full_path  gender  age\n",
      "0   [01/nm0000001_rm946909184_1899-5-10_1968.jpg]     1.0   69\n",
      "1   [01/nm0000001_rm980463616_1899-5-10_1968.jpg]     1.0   69\n",
      "2  [02/nm0000002_rm1346607872_1924-9-16_2004.jpg]     0.0   79\n",
      "3  [02/nm0000002_rm1363385088_1924-9-16_2004.jpg]     0.0   79\n",
      "4   [02/nm0000002_rm221957120_1924-9-16_1974.jpg]     0.0   49\n"
     ]
    }
   ],
   "source": [
    "#Determine valid images on the IMDB dataset\n",
    "imdb_valid_images=imdb_df.apply(lambda row: get_valid(row['gender'],row['face_score'],row['second_face_score'],row['age']) , axis=1)\n",
    "imdb_df['valid_images']=imdb_valid_images\n",
    "print(imdb_df['valid_images'].value_counts())\n",
    "\n",
    "# Save only imdb valid images \n",
    "imdb_valid_df=imdb_df.loc[imdb_df['valid_images'],['full_path','gender','age']].reset_index(drop=True)\n",
    "print(imdb_valid_df.head())"
   ]
  },
  {
   "cell_type": "code",
   "execution_count": 6,
   "metadata": {},
   "outputs": [
    {
     "name": "stdout",
     "output_type": "stream",
     "text": [
      "                                           full_path  gender  age\n",
      "0  data/imdb/01/nm0000001_rm946909184_1899-5-10_1...     1.0   69\n",
      "1  data/imdb/01/nm0000001_rm980463616_1899-5-10_1...     1.0   69\n",
      "2  data/imdb/02/nm0000002_rm1346607872_1924-9-16_...     0.0   79\n",
      "3  data/imdb/02/nm0000002_rm1363385088_1924-9-16_...     0.0   79\n",
      "4  data/imdb/02/nm0000002_rm221957120_1924-9-16_1...     0.0   49\n",
      "                                                full_path  gender  age\n",
      "171847  data/imdb/08/nm3994408_rm73386752_1989-12-29_2...     0.0   21\n",
      "171848  data/imdb/08/nm3994408_rm744468480_1989-12-29_...     0.0   21\n",
      "171849  data/imdb/08/nm3994408_rm761245696_1989-12-29_...     0.0   21\n",
      "171850  data/imdb/08/nm3994408_rm943369728_1989-12-29_...     0.0   21\n",
      "171851  data/imdb/08/nm3994408_rm976924160_1989-12-29_...     0.0   21\n"
     ]
    }
   ],
   "source": [
    "#Update full path to complete path on the IMDB dataset\n",
    "\n",
    "imdb_valid_df.loc[:, 'full_path'] = imdb_valid_df.full_path.map(lambda x: 'data/imdb/'+x[0])\n",
    "#print(imdb_valid_df.full_path)\n",
    "print(imdb_valid_df.head())\n",
    "print(imdb_valid_df.tail())"
   ]
  },
  {
   "cell_type": "code",
   "execution_count": 7,
   "metadata": {},
   "outputs": [
    {
     "name": "stdout",
     "output_type": "stream",
     "text": [
      "True     38138\n",
      "False    24190\n",
      "Name: valid_images, dtype: int64\n",
      "                           full_path  gender  age\n",
      "0  [17/10000217_1981-05-05_2009.jpg]     1.0   28\n",
      "1    [12/100012_1948-07-03_2008.jpg]     1.0   59\n",
      "2  [16/10002116_1971-05-31_2012.jpg]     0.0   41\n",
      "3  [02/10002702_1960-11-09_2012.jpg]     0.0   51\n",
      "4  [41/10003541_1937-09-27_1971.jpg]     1.0   33\n"
     ]
    }
   ],
   "source": [
    "#Select valid images on the wiki dataset\n",
    "\n",
    "wiki_valid_images=wiki_df.apply(lambda row: get_valid(row['gender'],row['face_score'],row['second_face_score'],row['age']) , axis=1)\n",
    "wiki_df['valid_images']=wiki_valid_images\n",
    "print(wiki_df['valid_images'].value_counts())\n",
    "\n",
    "# Save wiki valid images\n",
    "wiki_valid_df=wiki_df.loc[wiki_df['valid_images'],['full_path','gender','age']].reset_index(drop=True)\n",
    "print(wiki_valid_df.head())"
   ]
  },
  {
   "cell_type": "code",
   "execution_count": 8,
   "metadata": {},
   "outputs": [
    {
     "name": "stdout",
     "output_type": "stream",
     "text": [
      "                                   full_path  gender  age\n",
      "0  data/wiki/17/10000217_1981-05-05_2009.jpg     1.0   28\n",
      "1    data/wiki/12/100012_1948-07-03_2008.jpg     1.0   59\n",
      "2  data/wiki/16/10002116_1971-05-31_2012.jpg     0.0   41\n",
      "3  data/wiki/02/10002702_1960-11-09_2012.jpg     0.0   51\n",
      "4  data/wiki/41/10003541_1937-09-27_1971.jpg     1.0   33\n",
      "                                      full_path  gender  age\n",
      "38133  data/wiki/38/9996938_1937-02-15_1968.jpg     1.0   31\n",
      "38134  data/wiki/46/9996946_1943-11-01_1968.jpg     1.0   24\n",
      "38135  data/wiki/49/9996949_1937-04-17_1963.jpg     1.0   26\n",
      "38136  data/wiki/09/9998109_1972-12-27_2013.jpg     1.0   40\n",
      "38137   data/wiki/80/999980_1954-06-11_2008.jpg     0.0   54\n"
     ]
    }
   ],
   "source": [
    "#Update full path to complete path on the wiki dataset\n",
    "\n",
    "wiki_valid_df.loc[:, 'full_path'] = wiki_valid_df.full_path.map(lambda x: 'data/wiki/'+x[0])\n",
    "#print(wiki_valid_df.full_path)\n",
    "print(wiki_valid_df.head())\n",
    "print(wiki_valid_df.tail())"
   ]
  },
  {
   "cell_type": "code",
   "execution_count": 11,
   "metadata": {},
   "outputs": [
    {
     "data": {
      "text/html": [
       "<div>\n",
       "<style scoped>\n",
       "    .dataframe tbody tr th:only-of-type {\n",
       "        vertical-align: middle;\n",
       "    }\n",
       "\n",
       "    .dataframe tbody tr th {\n",
       "        vertical-align: top;\n",
       "    }\n",
       "\n",
       "    .dataframe thead th {\n",
       "        text-align: right;\n",
       "    }\n",
       "</style>\n",
       "<table border=\"1\" class=\"dataframe\">\n",
       "  <thead>\n",
       "    <tr style=\"text-align: right;\">\n",
       "      <th></th>\n",
       "      <th>full_path</th>\n",
       "      <th>gender</th>\n",
       "      <th>age</th>\n",
       "    </tr>\n",
       "  </thead>\n",
       "  <tbody>\n",
       "    <tr>\n",
       "      <th>0</th>\n",
       "      <td>data/imdb/01/nm0000001_rm946909184_1899-5-10_1...</td>\n",
       "      <td>1.0</td>\n",
       "      <td>69</td>\n",
       "    </tr>\n",
       "    <tr>\n",
       "      <th>1</th>\n",
       "      <td>data/imdb/01/nm0000001_rm980463616_1899-5-10_1...</td>\n",
       "      <td>1.0</td>\n",
       "      <td>69</td>\n",
       "    </tr>\n",
       "    <tr>\n",
       "      <th>2</th>\n",
       "      <td>data/imdb/02/nm0000002_rm1346607872_1924-9-16_...</td>\n",
       "      <td>0.0</td>\n",
       "      <td>79</td>\n",
       "    </tr>\n",
       "    <tr>\n",
       "      <th>3</th>\n",
       "      <td>data/imdb/02/nm0000002_rm1363385088_1924-9-16_...</td>\n",
       "      <td>0.0</td>\n",
       "      <td>79</td>\n",
       "    </tr>\n",
       "    <tr>\n",
       "      <th>4</th>\n",
       "      <td>data/imdb/02/nm0000002_rm221957120_1924-9-16_1...</td>\n",
       "      <td>0.0</td>\n",
       "      <td>49</td>\n",
       "    </tr>\n",
       "    <tr>\n",
       "      <th>5</th>\n",
       "      <td>data/imdb/02/nm0000002_rm2287049216_1924-9-16_...</td>\n",
       "      <td>0.0</td>\n",
       "      <td>82</td>\n",
       "    </tr>\n",
       "    <tr>\n",
       "      <th>6</th>\n",
       "      <td>data/imdb/02/nm0000002_rm238734336_1924-9-16_1...</td>\n",
       "      <td>0.0</td>\n",
       "      <td>49</td>\n",
       "    </tr>\n",
       "    <tr>\n",
       "      <th>7</th>\n",
       "      <td>data/imdb/02/nm0000002_rm2585828096_1924-9-16_...</td>\n",
       "      <td>0.0</td>\n",
       "      <td>81</td>\n",
       "    </tr>\n",
       "    <tr>\n",
       "      <th>8</th>\n",
       "      <td>data/imdb/02/nm0000002_rm2769394176_1924-9-16_...</td>\n",
       "      <td>0.0</td>\n",
       "      <td>81</td>\n",
       "    </tr>\n",
       "    <tr>\n",
       "      <th>9</th>\n",
       "      <td>data/imdb/02/nm0000002_rm2780403712_1924-9-16_...</td>\n",
       "      <td>0.0</td>\n",
       "      <td>79</td>\n",
       "    </tr>\n",
       "  </tbody>\n",
       "</table>\n",
       "</div>"
      ],
      "text/plain": [
       "                                           full_path  gender  age\n",
       "0  data/imdb/01/nm0000001_rm946909184_1899-5-10_1...     1.0   69\n",
       "1  data/imdb/01/nm0000001_rm980463616_1899-5-10_1...     1.0   69\n",
       "2  data/imdb/02/nm0000002_rm1346607872_1924-9-16_...     0.0   79\n",
       "3  data/imdb/02/nm0000002_rm1363385088_1924-9-16_...     0.0   79\n",
       "4  data/imdb/02/nm0000002_rm221957120_1924-9-16_1...     0.0   49\n",
       "5  data/imdb/02/nm0000002_rm2287049216_1924-9-16_...     0.0   82\n",
       "6  data/imdb/02/nm0000002_rm238734336_1924-9-16_1...     0.0   49\n",
       "7  data/imdb/02/nm0000002_rm2585828096_1924-9-16_...     0.0   81\n",
       "8  data/imdb/02/nm0000002_rm2769394176_1924-9-16_...     0.0   81\n",
       "9  data/imdb/02/nm0000002_rm2780403712_1924-9-16_...     0.0   79"
      ]
     },
     "execution_count": 11,
     "metadata": {},
     "output_type": "execute_result"
    }
   ],
   "source": [
    "valid_df = pd.concat([imdb_valid_df,wiki_valid_df],axis=0)\n",
    "valid_df.head(10)\n"
   ]
  },
  {
   "cell_type": "code",
   "execution_count": 12,
   "metadata": {},
   "outputs": [
    {
     "data": {
      "text/html": [
       "<div>\n",
       "<style scoped>\n",
       "    .dataframe tbody tr th:only-of-type {\n",
       "        vertical-align: middle;\n",
       "    }\n",
       "\n",
       "    .dataframe tbody tr th {\n",
       "        vertical-align: top;\n",
       "    }\n",
       "\n",
       "    .dataframe thead th {\n",
       "        text-align: right;\n",
       "    }\n",
       "</style>\n",
       "<table border=\"1\" class=\"dataframe\">\n",
       "  <thead>\n",
       "    <tr style=\"text-align: right;\">\n",
       "      <th></th>\n",
       "      <th>full_path</th>\n",
       "      <th>gender</th>\n",
       "      <th>age</th>\n",
       "    </tr>\n",
       "  </thead>\n",
       "  <tbody>\n",
       "    <tr>\n",
       "      <th>38133</th>\n",
       "      <td>data/wiki/38/9996938_1937-02-15_1968.jpg</td>\n",
       "      <td>1.0</td>\n",
       "      <td>31</td>\n",
       "    </tr>\n",
       "    <tr>\n",
       "      <th>38134</th>\n",
       "      <td>data/wiki/46/9996946_1943-11-01_1968.jpg</td>\n",
       "      <td>1.0</td>\n",
       "      <td>24</td>\n",
       "    </tr>\n",
       "    <tr>\n",
       "      <th>38135</th>\n",
       "      <td>data/wiki/49/9996949_1937-04-17_1963.jpg</td>\n",
       "      <td>1.0</td>\n",
       "      <td>26</td>\n",
       "    </tr>\n",
       "    <tr>\n",
       "      <th>38136</th>\n",
       "      <td>data/wiki/09/9998109_1972-12-27_2013.jpg</td>\n",
       "      <td>1.0</td>\n",
       "      <td>40</td>\n",
       "    </tr>\n",
       "    <tr>\n",
       "      <th>38137</th>\n",
       "      <td>data/wiki/80/999980_1954-06-11_2008.jpg</td>\n",
       "      <td>0.0</td>\n",
       "      <td>54</td>\n",
       "    </tr>\n",
       "  </tbody>\n",
       "</table>\n",
       "</div>"
      ],
      "text/plain": [
       "                                      full_path  gender  age\n",
       "38133  data/wiki/38/9996938_1937-02-15_1968.jpg     1.0   31\n",
       "38134  data/wiki/46/9996946_1943-11-01_1968.jpg     1.0   24\n",
       "38135  data/wiki/49/9996949_1937-04-17_1963.jpg     1.0   26\n",
       "38136  data/wiki/09/9998109_1972-12-27_2013.jpg     1.0   40\n",
       "38137   data/wiki/80/999980_1954-06-11_2008.jpg     0.0   54"
      ]
     },
     "execution_count": 12,
     "metadata": {},
     "output_type": "execute_result"
    }
   ],
   "source": [
    "valid_df.tail(5)"
   ]
  },
  {
   "cell_type": "code",
   "execution_count": 13,
   "metadata": {},
   "outputs": [
    {
     "data": {
      "text/html": [
       "<div>\n",
       "<style scoped>\n",
       "    .dataframe tbody tr th:only-of-type {\n",
       "        vertical-align: middle;\n",
       "    }\n",
       "\n",
       "    .dataframe tbody tr th {\n",
       "        vertical-align: top;\n",
       "    }\n",
       "\n",
       "    .dataframe thead th {\n",
       "        text-align: right;\n",
       "    }\n",
       "</style>\n",
       "<table border=\"1\" class=\"dataframe\">\n",
       "  <thead>\n",
       "    <tr style=\"text-align: right;\">\n",
       "      <th></th>\n",
       "      <th>gender</th>\n",
       "      <th>age</th>\n",
       "    </tr>\n",
       "  </thead>\n",
       "  <tbody>\n",
       "    <tr>\n",
       "      <th>count</th>\n",
       "      <td>209990.000000</td>\n",
       "      <td>209990.000000</td>\n",
       "    </tr>\n",
       "    <tr>\n",
       "      <th>mean</th>\n",
       "      <td>0.582537</td>\n",
       "      <td>36.699633</td>\n",
       "    </tr>\n",
       "    <tr>\n",
       "      <th>std</th>\n",
       "      <td>0.493142</td>\n",
       "      <td>13.730862</td>\n",
       "    </tr>\n",
       "    <tr>\n",
       "      <th>min</th>\n",
       "      <td>0.000000</td>\n",
       "      <td>0.000000</td>\n",
       "    </tr>\n",
       "    <tr>\n",
       "      <th>25%</th>\n",
       "      <td>0.000000</td>\n",
       "      <td>27.000000</td>\n",
       "    </tr>\n",
       "    <tr>\n",
       "      <th>50%</th>\n",
       "      <td>1.000000</td>\n",
       "      <td>35.000000</td>\n",
       "    </tr>\n",
       "    <tr>\n",
       "      <th>75%</th>\n",
       "      <td>1.000000</td>\n",
       "      <td>44.000000</td>\n",
       "    </tr>\n",
       "    <tr>\n",
       "      <th>max</th>\n",
       "      <td>1.000000</td>\n",
       "      <td>100.000000</td>\n",
       "    </tr>\n",
       "  </tbody>\n",
       "</table>\n",
       "</div>"
      ],
      "text/plain": [
       "              gender            age\n",
       "count  209990.000000  209990.000000\n",
       "mean        0.582537      36.699633\n",
       "std         0.493142      13.730862\n",
       "min         0.000000       0.000000\n",
       "25%         0.000000      27.000000\n",
       "50%         1.000000      35.000000\n",
       "75%         1.000000      44.000000\n",
       "max         1.000000     100.000000"
      ]
     },
     "execution_count": 13,
     "metadata": {},
     "output_type": "execute_result"
    }
   ],
   "source": [
    "valid_df.describe()"
   ]
  },
  {
   "cell_type": "code",
   "execution_count": 14,
   "metadata": {},
   "outputs": [
    {
     "name": "stdout",
     "output_type": "stream",
     "text": [
      "<class 'pandas.core.frame.DataFrame'>\n",
      "Int64Index: 209990 entries, 0 to 38137\n",
      "Data columns (total 3 columns):\n",
      " #   Column     Non-Null Count   Dtype  \n",
      "---  ------     --------------   -----  \n",
      " 0   full_path  209990 non-null  object \n",
      " 1   gender     209990 non-null  float64\n",
      " 2   age        209990 non-null  int64  \n",
      "dtypes: float64(1), int64(1), object(1)\n",
      "memory usage: 6.4+ MB\n"
     ]
    }
   ],
   "source": [
    "valid_df.info()"
   ]
  },
  {
   "cell_type": "code",
   "execution_count": 15,
   "metadata": {},
   "outputs": [],
   "source": [
    "valid_df.gender=valid_df.gender.astype('int32')"
   ]
  },
  {
   "cell_type": "code",
   "execution_count": 16,
   "metadata": {},
   "outputs": [
    {
     "name": "stdout",
     "output_type": "stream",
     "text": [
      "0 0 Gender: 1 Age: 69\n",
      "0 1 Gender: 0 Age: 82\n",
      "0 2 Gender: 0 Age: 66\n",
      "1 0 Gender: 1 Age: 29\n",
      "1 1 Gender: 1 Age: 48\n",
      "1 2 Gender: 1 Age: 66\n",
      "2 0 Gender: 1 Age: 72\n",
      "2 1 Gender: 1 Age: 37\n",
      "2 2 Gender: 1 Age: 51\n"
     ]
    },
    {
     "data": {
      "image/png": "[encoded data removed]",
      "text/plain": [
       "<Figure size 432x288 with 9 Axes>"
      ]
     },
     "metadata": {
      "needs_background": "light"
     },
     "output_type": "display_data"
    }
   ],
   "source": [
    "from matplotlib import pyplot\n",
    "from matplotlib.image import imread\n",
    "  \n",
    "f, axarr = plt.subplots(3,3)\n",
    "count=0\n",
    "for i in range(3):\n",
    "    for j in range(3):\n",
    "        filename=valid_df.values[count][0]\n",
    "        image=imread(filename)\n",
    "        axarr[i,j].imshow(image)\n",
    "        print(i,j,\"Gender:\",valid_df.values[count][1],\"Age:\",valid_df.values[count][2])\n",
    "        count+=10"
   ]
  },
  {
   "cell_type": "code",
   "execution_count": 17,
   "metadata": {},
   "outputs": [
    {
     "data": {
      "image/png": "[encoded data removed]",
      "text/plain": [
       "<Figure size 432x288 with 1 Axes>"
      ]
     },
     "metadata": {
      "needs_background": "light"
     },
     "output_type": "display_data"
    },
    {
     "name": "stdout",
     "output_type": "stream",
     "text": [
      "bin_start bin_end count cumulative_count\n",
      "0.0 5.0 128.0 128.0\n",
      "5.0 10.0 841.0 969.0\n",
      "10.0 15.0 3274.0 4243.0\n",
      "15.0 20.0 8924.0 13167.0\n",
      "20.0 25.0 24363.0 37530.0\n",
      "25.0 30.0 32595.0 70125.0\n",
      "30.0 35.0 34494.0 104619.0\n",
      "35.0 40.0 30775.0 135394.0\n",
      "40.0 45.0 22941.0 158335.0\n",
      "45.0 50.0 17174.0 175509.0\n",
      "50.0 55.0 11444.0 186953.0\n",
      "55.0 60.0 8010.0 194963.0\n",
      "60.0 65.0 5881.0 200844.0\n",
      "65.0 70.0 3825.0 204669.0\n",
      "70.0 75.0 2374.0 207043.0\n",
      "75.0 80.0 1529.0 208572.0\n",
      "80.0 85.0 816.0 209388.0\n",
      "85.0 90.0 384.0 209772.0\n",
      "90.0 95.0 164.0 209936.0\n",
      "95.0 100.0 54.0 209990.0\n"
     ]
    }
   ],
   "source": [
    "(n, bins, patches)=plt.hist(x=valid_df.age,bins=20);\n",
    "plt.show();\n",
    "total_count=0\n",
    "print('bin_start','bin_end','count','cumulative_count')\n",
    "for bin, count in zip(bins,n):\n",
    "    total_count+=count\n",
    "    print(bin,bin+5,count,total_count)"
   ]
  },
  {
   "cell_type": "code",
   "execution_count": 18,
   "metadata": {},
   "outputs": [
    {
     "data": {
      "text/plain": [
       "1    122327\n",
       "0     87663\n",
       "Name: gender, dtype: int64"
      ]
     },
     "execution_count": 18,
     "metadata": {},
     "output_type": "execute_result"
    }
   ],
   "source": [
    "valid_df.gender.value_counts()\n",
    "# Note: 0 for female and 1 for male\n",
    "# There are more valid images of males than females. "
   ]
  },
  {
   "cell_type": "code",
   "execution_count": 19,
   "metadata": {},
   "outputs": [
    {
     "data": {
      "image/png": "[encoded data removed]",
      "text/plain": [
       "<Figure size 432x288 with 1 Axes>"
      ]
     },
     "metadata": {
      "needs_background": "light"
     },
     "output_type": "display_data"
    }
   ],
   "source": [
    "categories = valid_df['gender'].unique()\n",
    "\n",
    "for c in categories:\n",
    "    plt.hist(valid_df[valid_df['gender'] == c]['age'], alpha=0.5, label=c, bins=20, density=True)\n",
    "plt.legend()\n",
    "plt.ylabel('Probability Distribution Function')\n",
    "plt.xlabel('Age')\n",
    "plt.show()"
   ]
  },
  {
   "cell_type": "code",
   "execution_count": 20,
   "metadata": {},
   "outputs": [
    {
     "data": {
      "image/png": "[encoded data removed]",
      "text/plain": [
       "<Figure size 432x288 with 1 Axes>"
      ]
     },
     "metadata": {
      "needs_background": "light"
     },
     "output_type": "display_data"
    }
   ],
   "source": [
    "valid_df[['age', 'gender']].boxplot(by='gender')\n",
    "plt.ylabel('age')\n",
    "plt.show()"
   ]
  },
  {
   "cell_type": "code",
   "execution_count": null,
   "metadata": {},
   "outputs": [
    {
     "name": "stderr",
     "output_type": "stream",
     "text": [
      " 23%|██▎       | 48052/209990 [44:35<2:25:10, 18.59it/s]"
     ]
    }
   ],
   "source": [
    "from tqdm import tqdm\n",
    "import cv2\n",
    "from skimage import io\n",
    "\n",
    "images = []\n",
    "ages = []\n",
    "genders = []\n",
    "#img_dim=64\n",
    "img_dim=32\n",
    "\n",
    "total_count=valid_df.shape[0]\n",
    "\n",
    "for i in tqdm(range(total_count)):\n",
    "    impath=valid_df.values[i][0]\n",
    "    image = io.imread(impath)\n",
    "    image = cv2.resize(image, (img_dim,img_dim)) \n",
    "    image = cv2.cvtColor(image, cv2.COLOR_RGB2BGR) \n",
    "    images.append(image) #Check image format \n",
    "    genders.append(valid_df.values[i][1])\n",
    "    ages.append(valid_df.values[i][2])"
   ]
  },
  {
   "cell_type": "code",
   "execution_count": null,
   "metadata": {},
   "outputs": [],
   "source": [
    "all_images = np.squeeze(images) \n",
    "print(all_images.shape)"
   ]
  },
  {
   "cell_type": "code",
   "execution_count": null,
   "metadata": {},
   "outputs": [],
   "source": [
    "#Normaliza image data\n",
    "all_images = all_images.astype('float32')\n",
    "all_images /= 255."
   ]
  },
  {
   "cell_type": "code",
   "execution_count": null,
   "metadata": {},
   "outputs": [],
   "source": [
    "gender_and_age=valid_df.drop('full_path', axis=1)\n",
    "print(gender_and_age.head())"
   ]
  },
  {
   "cell_type": "code",
   "execution_count": null,
   "metadata": {},
   "outputs": [],
   "source": [
    "# split dataset into 80% train and 20% test data\n",
    "from sklearn.model_selection import train_test_split\n",
    "\n",
    "x_train, x_test, y_train, y_test = train_test_split(all_images, gender_and_age,test_size=0.2,random_state=42,shuffle=True)\n",
    "print('Peek at the training dataset')\n",
    "print(\"Samples in Training:\",x_train.shape[0])\n",
    "print(y_train.info())\n",
    "\n",
    "print('Peek at the testing dataset')\n",
    "print(\"Samples in Testing:\",x_test.shape[0])\n",
    "print(y_test.info())\n",
    "print(y_test.size)\n",
    "print(y_test.age.values)"
   ]
  },
  {
   "cell_type": "code",
   "execution_count": null,
   "metadata": {},
   "outputs": [],
   "source": [
    "#0 for female, 1 for male\n",
    "train_test = {'male': [y_train['gender'].value_counts()[1], y_test['gender'].value_counts()[1]],\n",
    "     'female': [y_train['gender'].value_counts()[0], y_test['gender'].value_counts()[0]]}\n",
    "count_matrix = pd.DataFrame(train_test)\n",
    "count_matrix = count_matrix.set_index(pd.Index(['train', 'test']))\n",
    "count_matrix.plot(kind='bar', stacked=True, rot=0, figsize=(9, 6))\n",
    "plt.ylabel('people')\n",
    "plt.legend(loc=1)\n",
    "plt.show()"
   ]
  },
  {
   "cell_type": "code",
   "execution_count": null,
   "metadata": {},
   "outputs": [],
   "source": [
    "#scale age for better model performance\n",
    "\n",
    "y_train.age = y_train.age/100\n",
    "y_test.age = y_test.age/100\n"
   ]
  },
  {
   "cell_type": "code",
   "execution_count": null,
   "metadata": {},
   "outputs": [],
   "source": [
    "import tensorflow as tf\n",
    "from tensorflow.keras import layers\n",
    "import keras \n",
    "from keras.layers import *\n",
    "from keras.models import *\n",
    "from keras.callbacks import EarlyStopping\n",
    "from keras import backend as K\n",
    "from IPython.display import Image"
   ]
  },
  {
   "cell_type": "code",
   "execution_count": null,
   "metadata": {},
   "outputs": [],
   "source": [
    "inputs = Input(shape = (32,32, 3))\n",
    "\n",
    "    # Begin\n",
    "model = Conv2D(filters=256, kernel_size=(3, 3), padding='SAME', strides= 2, activation='relu', input_shape=(32, 32, 3))(inputs)\n",
    "model = MaxPool2D(pool_size=(3, 3), strides= 2)(model)\n",
    "model = BatchNormalization(momentum=0.15)(model)\n",
    "\n",
    "model = Conv2D(filters=64, kernel_size=(1, 1), padding='SAME', activation='relu')(model)\n",
    "model = BatchNormalization(momentum=0.15)(model)\n",
    "model = Conv2D(filters=64, kernel_size=(3, 3), padding='SAME', activation='relu')(model)\n",
    "model = BatchNormalization(momentum=0.15)(model)\n",
    "\n",
    "model = Conv2D(filters=64, kernel_size=(1, 1), padding='SAME', activation='relu')(model)\n",
    "model = AveragePooling2D(pool_size=(2, 2), strides= 2)(model)\n",
    "model = BatchNormalization(momentum=0.15)(model)\n",
    "\n",
    "model = Conv2D(filters=128, kernel_size=(1, 1), padding='SAME', activation='relu')(model)\n",
    "model = BatchNormalization(momentum=0.15)(model)\n",
    "model = Conv2D(filters=128, kernel_size=(3, 3), padding='SAME', activation='relu')(model)\n",
    "model = BatchNormalization(momentum=0.15)(model)\n",
    "\n",
    "model = Conv2D(filters=128, kernel_size=(1, 1), padding='SAME', activation='relu')(model)\n",
    "model = BatchNormalization(momentum=0.15)(model)\n",
    "model = Conv2D(filters=256, kernel_size=(1, 1), padding='SAME', activation='relu')(model)\n",
    "model = BatchNormalization(momentum=0.15)(model)\n",
    "model = Conv2D(filters=256, kernel_size=(3, 3), padding='SAME', activation='relu')(model)\n",
    "model = BatchNormalization(momentum=0.15)(model)\n",
    "model = Conv2D(filters=256, kernel_size=(1, 1), padding='SAME', activation='relu')(model)\n",
    "\n",
    "model = GlobalAveragePooling2D()(model)\n",
    "\n",
    "age_model = Dense(1024, activation='relu')(model)\n",
    "age_model= Dropout(0.4)(age_model)\n",
    "age_model = Dense(1, activation='relu',name='age')(age_model)\n",
    "\n",
    "gender_model = Dense(1024, activation='sigmoid')(model)\n",
    "gender_model = Dropout(0.4)(gender_model)\n",
    "gender_model = Dense(1, activation='sigmoid',name='gender')(gender_model)\n"
   ]
  },
  {
   "cell_type": "code",
   "execution_count": null,
   "metadata": {},
   "outputs": [],
   "source": [
    "model = Model(inputs=inputs, outputs=[age_model,gender_model])\n",
    "model.compile(optimizer = tf.keras.optimizers.Adam(0.00002), loss ={'age':'mae','gender':'binary_crossentropy'},metrics={'age':'mae',\"gender\":\"accuracy\"})\n",
    "model.summary()"
   ]
  },
  {
   "cell_type": "code",
   "execution_count": null,
   "metadata": {},
   "outputs": [],
   "source": [
    "callbacks = [tf.keras.callbacks.EarlyStopping(patience=5, monitor='val_loss',restore_best_weights=True)]\n",
    "\n",
    "BATCH_SIZE=128\n",
    "\n",
    "#steps_per_epoch = TotalTrainingSamples / TrainingBatchSize\n",
    "#validation_steps = TotalvalidationSamples / ValidationBatchSize\n",
    "\n",
    "history = model.fit(x_train,[y_train.age.values,y_train.gender.values],\n",
    "                    validation_data=(x_test,[y_test.age.values,y_test.gender.values]),epochs = 25, \n",
    "                    steps_per_epoch=x_train.shape[0]//BATCH_SIZE ,shuffle = True,\n",
    "                    validation_steps=x_test.shape[0]//BATCH_SIZE,callbacks=callbacks)"
   ]
  },
  {
   "cell_type": "code",
   "execution_count": null,
   "metadata": {},
   "outputs": [],
   "source": [
    "model.save('age_gender_model_ipy.h5')\n",
    "print(history.history.keys())"
   ]
  },
  {
   "cell_type": "code",
   "execution_count": null,
   "metadata": {},
   "outputs": [],
   "source": [
    "plt.plot(history.history['age_loss'])\n",
    "plt.plot(history.history['val_age_loss'])\n",
    "plt.title('age model loss')\n",
    "plt.ylabel('loss')\n",
    "plt.xlabel('epoch')\n",
    "plt.legend(['train', 'test'], loc='upper left')\n",
    "plt.show()\n",
    "\n",
    "plt.plot(history.history['age_mae'])\n",
    "plt.plot(history.history['val_age_mae'])\n",
    "plt.title('age model accuracy')\n",
    "plt.ylabel('accuracy')\n",
    "plt.xlabel('epoch')\n",
    "plt.legend(['train', 'test'], loc='upper left')\n",
    "plt.show()"
   ]
  },
  {
   "cell_type": "code",
   "execution_count": null,
   "metadata": {},
   "outputs": [],
   "source": [
    "plt.plot(history.history['gender_loss'])\n",
    "plt.plot(history.history['val_gender_loss'])\n",
    "plt.title('gender model loss')\n",
    "plt.ylabel('loss')\n",
    "plt.xlabel('epoch')\n",
    "plt.legend(['train', 'test'], loc='upper left')\n",
    "plt.show()\n",
    "\n",
    "plt.plot(history.history['gender_accuracy'])\n",
    "plt.plot(history.history['val_gender_accuracy'])\n",
    "plt.title('gender model accuracy')\n",
    "plt.ylabel('accuracy')\n",
    "plt.xlabel('epoch')\n",
    "plt.legend(['train', 'test'], loc='upper left')\n",
    "plt.show()"
   ]
  },
  {
   "cell_type": "code",
   "execution_count": null,
   "metadata": {},
   "outputs": [],
   "source": []
  }
 ],
 "metadata": {
  "kernelspec": {
   "display_name": "Python 3",
   "language": "python",
   "name": "python3"
  },
  "language_info": {
   "codemirror_mode": {
    "name": "ipython",
    "version": 3
   },
   "file_extension": ".py",
   "mimetype": "text/x-python",
   "name": "python",
   "nbconvert_exporter": "python",
   "pygments_lexer": "ipython3",
   "version": "3.7.3"
  }
 },
 "nbformat": 4,
 "nbformat_minor": 2
}
